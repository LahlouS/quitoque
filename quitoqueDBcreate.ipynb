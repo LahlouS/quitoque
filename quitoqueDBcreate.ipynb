{
 "cells": [
  {
   "cell_type": "markdown",
   "id": "d71ab149",
   "metadata": {},
   "source": [
    "## moving the xlsx files from the SQL exercice to try my cmd"
   ]
  },
  {
   "cell_type": "code",
   "execution_count": 6,
   "id": "589e2b05",
   "metadata": {},
   "outputs": [],
   "source": [
    "import pandas as pd\n",
    "import sqlite3\n",
    "\n",
    "conn = sqlite3.connect('./quitoqueDB')\n",
    "\n",
    "# One sheet for every table\n",
    "supplier = pd.read_excel('./Cas_pratique_-_SQL.xlsx', sheet_name='supplier') \n",
    "article = pd.read_excel('./Cas_pratique_-_SQL.xlsx', sheet_name='article') \n",
    "supplier_order_article = pd.read_excel('./Cas_pratique_-_SQL.xlsx', sheet_name='supplier_order_article') \n",
    "supplier_order = pd.read_excel('./Cas_pratique_-_SQL.xlsx', sheet_name='supplier_order') \n",
    "\n",
    "\n",
    "\n",
    "\n",
    "# Create a SQLite database and connect to it\n",
    "conn = sqlite3.connect('./sqlLiteQuitoque/quitoqueDB')\n",
    "\n",
    "# Define the table schema based on the columns in the DataFrame\n",
    "\n",
    "columns_supplier =', '.join([f'{column} TEXT' for column in supplier.columns])\n",
    "columns_article =', '.join([f'{column} TEXT' for column in article.columns])\n",
    "columns_supplier_order_article =', '.join([f'{column} TEXT' for column in supplier_order_article.columns])\n",
    "columns_supplier_order =', '.join([f'{column} TEXT' for column in supplier_order.columns])\n",
    "\n",
    "\n",
    "create_table_supplier = f'CREATE TABLE supplier ({columns_supplier})'\n",
    "create_table_article = f'CREATE TABLE article ({columns_article})'\n",
    "create_table_supplier_order_article = f'CREATE TABLE supplier_order_article ({columns_supplier_order_article})'\n",
    "create_table_supplier_order = f'CREATE TABLE supplier_order ({columns_supplier_order})'\n",
    "\n",
    "# Execute the table creation query\n",
    "conn.execute(create_table_supplier)\n",
    "conn.execute(create_table_article)\n",
    "conn.execute(create_table_supplier_order_article)\n",
    "conn.execute(create_table_supplier_order)\n",
    "\n",
    "# Insert the data from the DataFrame into the SQLite table\n",
    "supplier.to_sql('supplier', conn, if_exists='append', index=False)\n",
    "article.to_sql('article', conn, if_exists='append', index=False)\n",
    "supplier_order_article.to_sql('supplier_order_article', conn, if_exists='append', index=False)\n",
    "supplier_order.to_sql('supplier_order', conn, if_exists='append', index=False)\n",
    "\n",
    "# Close the connection to the database\n",
    "conn.close()"
   ]
  },
  {
   "cell_type": "code",
   "execution_count": null,
   "id": "fbb11cc9",
   "metadata": {},
   "outputs": [],
   "source": []
  },
  {
   "cell_type": "code",
   "execution_count": null,
   "id": "04f51854",
   "metadata": {},
   "outputs": [],
   "source": []
  }
 ],
 "metadata": {
  "kernelspec": {
   "display_name": "Python 3 (ipykernel)",
   "language": "python",
   "name": "python3"
  },
  "language_info": {
   "codemirror_mode": {
    "name": "ipython",
    "version": 3
   },
   "file_extension": ".py",
   "mimetype": "text/x-python",
   "name": "python",
   "nbconvert_exporter": "python",
   "pygments_lexer": "ipython3",
   "version": "3.10.6"
  }
 },
 "nbformat": 4,
 "nbformat_minor": 5
}
